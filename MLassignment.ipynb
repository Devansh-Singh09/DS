{
  "nbformat": 4,
  "nbformat_minor": 0,
  "metadata": {
    "colab": {
      "provenance": [],
      "authorship_tag": "ABX9TyOMvdhfA4Rk8zHNoVrSaxcH",
      "include_colab_link": true
    },
    "kernelspec": {
      "name": "python3",
      "display_name": "Python 3"
    },
    "language_info": {
      "name": "python"
    }
  },
  "cells": [
    {
      "cell_type": "markdown",
      "metadata": {
        "id": "view-in-github",
        "colab_type": "text"
      },
      "source": [
        "<a href=\"https://colab.research.google.com/github/Devansh-Singh09/DS/blob/main/MLassignment.ipynb\" target=\"_parent\"><img src=\"https://colab.research.google.com/assets/colab-badge.svg\" alt=\"Open In Colab\"/></a>"
      ]
    },
    {
      "cell_type": "code",
      "execution_count": 2,
      "metadata": {
        "colab": {
          "base_uri": "https://localhost:8080/"
        },
        "id": "yp9NqtgvPMp6",
        "outputId": "ad3b8c61-919e-4de3-ba39-06352b8c4b1f"
      },
      "outputs": [
        {
          "output_type": "stream",
          "name": "stdout",
          "text": [
            "Evaluating Linear Regression...\n",
            "Linear Regression - MSE: 23.486735195425815, R2 Score: 0.7390315860425439\n",
            "Evaluating Ridge Regression...\n",
            "Ridge Regression - MSE: 19.33547159964755, R2 Score: 0.7851575659837904\n",
            "Evaluating Lasso Regression...\n",
            "Lasso Regression - MSE: 16.666883864120358, R2 Score: 0.8148090736561928\n",
            "Evaluating Random Forest...\n",
            "Random Forest - MSE: 8.115971761194029, R2 Score: 0.9098209154819099\n",
            "Evaluating XGBoost...\n",
            "XGBoost - MSE: 11.642994005560283, R2 Score: 0.8706310751977571\n",
            "Predictions saved to predictions.csv\n",
            "Cross-Validated MSE for XGBoost: 15.851098320179545\n"
          ]
        }
      ],
      "source": [
        "import pandas as pd\n",
        "from sklearn.model_selection import train_test_split, cross_val_score, GridSearchCV\n",
        "from sklearn.preprocessing import StandardScaler, PolynomialFeatures\n",
        "from sklearn.linear_model import LinearRegression, Ridge, Lasso\n",
        "from sklearn.ensemble import RandomForestRegressor\n",
        "from xgboost import XGBRegressor\n",
        "from sklearn.metrics import mean_squared_error, r2_score\n",
        "import numpy as np\n",
        "\n",
        "# Load training data\n",
        "train_file_path = r\"train.csv\"\n",
        "train_data = pd.read_csv(train_file_path)\n",
        "\n",
        "# Load testing data\n",
        "test_file_path = r\"test.csv\"\n",
        "test_data = pd.read_csv(test_file_path)\n",
        "\n",
        "# Extract features (X) and target (y) from the training data\n",
        "X = train_data.drop(columns=['ID', 'medv'])  # Drop 'ID' and 'medv' (target) columns\n",
        "y = train_data['medv']  # Target variable\n",
        "\n",
        "# Extract features (X) from the test data (excluding ID column)\n",
        "X_test = test_data.drop(columns=['ID'], errors='ignore')  # Drop 'ID' column\n",
        "\n",
        "# Split the training data into train and validation sets\n",
        "X_train, X_valid, y_train, y_valid = train_test_split(X, y, test_size=0.2, random_state=42)\n",
        "\n",
        "# Feature Scaling\n",
        "scaler = StandardScaler()\n",
        "X_train_scaled = scaler.fit_transform(X_train)\n",
        "X_valid_scaled = scaler.transform(X_valid)\n",
        "X_test_scaled = scaler.transform(X_test)\n",
        "\n",
        "# Polynomial Features\n",
        "poly = PolynomialFeatures(degree=2)  # Try degree 2, adjust as needed\n",
        "X_train_poly = poly.fit_transform(X_train_scaled)\n",
        "X_valid_poly = poly.transform(X_valid_scaled)\n",
        "X_test_poly = poly.transform(X_test_scaled)\n",
        "\n",
        "# Initialize models\n",
        "models = {\n",
        "    'Linear Regression': LinearRegression(),\n",
        "    'Ridge Regression': Ridge(alpha=1.0),\n",
        "    'Lasso Regression': Lasso(alpha=0.1),\n",
        "    'Random Forest': RandomForestRegressor(n_estimators=100, random_state=42),\n",
        "    'XGBoost': XGBRegressor(n_estimators=100, learning_rate=0.1, random_state=42)\n",
        "}\n",
        "\n",
        "# Function to evaluate models\n",
        "def evaluate_model(model, X_train, y_train, X_valid, y_valid):\n",
        "    model.fit(X_train, y_train)\n",
        "    y_pred = model.predict(X_valid)\n",
        "    mse = mean_squared_error(y_valid, y_pred)\n",
        "    r2 = r2_score(y_valid, y_pred)\n",
        "    return mse, r2\n",
        "\n",
        "# Evaluate models\n",
        "for name, model in models.items():\n",
        "    print(f\"Evaluating {name}...\")\n",
        "\n",
        "    if name in ['Ridge Regression', 'Lasso Regression']:\n",
        "        # For regularized models, use polynomial features\n",
        "        mse, r2 = evaluate_model(model, X_train_poly, y_train, X_valid_poly, y_valid)\n",
        "    else:\n",
        "        mse, r2 = evaluate_model(model, X_train_scaled, y_train, X_valid_scaled, y_valid)\n",
        "\n",
        "    print(f\"{name} - MSE: {mse}, R2 Score: {r2}\")\n",
        "\n",
        "# Train on the entire training data and predict on the test data with the best model (e.g., XGBoost)\n",
        "best_model = XGBRegressor(n_estimators=100, learning_rate=0.1, random_state=42)\n",
        "best_model.fit(X_train_scaled, y_train)\n",
        "y_pred_test = best_model.predict(X_test_scaled)\n",
        "\n",
        "# Save predictions to CSV\n",
        "output = pd.DataFrame({'ID': test_data['ID'], 'medv': y_pred_test})\n",
        "output_file_path = r\"predictions.csv\"\n",
        "output.to_csv(output_file_path, index=False)\n",
        "\n",
        "print(f\"Predictions saved to {output_file_path}\")\n",
        "\n",
        "# Perform cross-validation for XGBoost (or other models)\n",
        "xgb_model = XGBRegressor(n_estimators=100, learning_rate=0.1, random_state=42)\n",
        "cv_scores = cross_val_score(xgb_model, X_train_scaled, y_train, cv=5, scoring='neg_mean_squared_error')\n",
        "print(f\"Cross-Validated MSE for XGBoost: {-cv_scores.mean()}\")"
      ]
    }
  ]
}